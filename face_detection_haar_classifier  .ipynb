{
 "cells": [
  {
   "cell_type": "code",
   "execution_count": 1,
   "metadata": {},
   "outputs": [],
   "source": [
    "import cv2\n",
    " \n",
    "scale_factor = 1.2\n",
    "min_neighbors = 3\n",
    "min_size = (50, 50)\n",
    "webcam=True #if video file webcam = False\n",
    " \n",
    "def detect(path):\n",
    " \n",
    "    cascade = cv2.CascadeClassifier(path)\n",
    "    if webcam:\n",
    "        video_cap = cv2.VideoCapture(0)\n",
    "    else:\n",
    "        video_cap = cv2.VideoCapture(\"videoFile.mp4\")\n",
    "    while True:\n",
    "        # Capture frame-by-frame\n",
    "        ret, img = video_cap.read()\n",
    " \n",
    "    \n",
    "        gray = cv2.cvtColor(img, cv2.COLOR_BGR2GRAY)\n",
    " \n",
    "        rects = cascade.detectMultiScale(gray, scaleFactor=scale_factor, minNeighbors=min_neighbors,\n",
    "                                         minSize=min_size)\n",
    "        # if at least 1 face detected\n",
    "        if len(rects) >= 0:\n",
    "            # Draw a rectangle around the faces\n",
    "            for (x, y, w, h) in rects:\n",
    "                cv2.rectangle(img, (x, y), (x + w, y + h), (0, 255, 0), 2)\n",
    " \n",
    "            # Display the resulting frame\n",
    "            cv2.imshow('Face Detection on Video', img)\n",
    "            #wait for 'c' to close the application\n",
    "            if cv2.waitKey(1) & 0xFF == ord('q'):\n",
    "                break\n",
    "    video_cap.release()\n",
    " \n",
    "def main():\n",
    "    cascadeFilePath=(r'E:\\ml practice\\haar\\haarcascade_frontalface_alt.xml')\n",
    "#     the above xml file is only for front face.\n",
    "    detect(cascadeFilePath)\n",
    "    cv2.destroyAllWindows()\n",
    " \n",
    " \n",
    "if __name__ == \"__main__\":\n",
    "    main()"
   ]
  },
  {
   "cell_type": "code",
   "execution_count": null,
   "metadata": {},
   "outputs": [],
   "source": []
  }
 ],
 "metadata": {
  "kernelspec": {
   "display_name": "Python 3",
   "language": "python",
   "name": "python3"
  },
  "language_info": {
   "codemirror_mode": {
    "name": "ipython",
    "version": 3
   },
   "file_extension": ".py",
   "mimetype": "text/x-python",
   "name": "python",
   "nbconvert_exporter": "python",
   "pygments_lexer": "ipython3",
   "version": "3.7.4"
  }
 },
 "nbformat": 4,
 "nbformat_minor": 2
}
